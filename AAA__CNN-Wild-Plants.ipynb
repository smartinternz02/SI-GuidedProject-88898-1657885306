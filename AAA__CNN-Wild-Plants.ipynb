{
 "cells": [
  {
   "cell_type": "code",
   "execution_count": 3,
   "metadata": {},
   "outputs": [
    {
     "data": {
      "text/plain": [
       "'2.2.4-tf'"
      ]
     },
     "execution_count": 3,
     "metadata": {},
     "output_type": "execute_result"
    }
   ],
   "source": [
    "import tensorflow.keras\n",
    "tensorflow.keras.__version__"
   ]
  },
  {
   "cell_type": "code",
   "execution_count": 4,
   "metadata": {},
   "outputs": [
    {
     "data": {
      "text/plain": [
       "'1.14.0'"
      ]
     },
     "execution_count": 4,
     "metadata": {},
     "output_type": "execute_result"
    }
   ],
   "source": [
    "import tensorflow as tf\n",
    "tf.__version__"
   ]
  },
  {
   "cell_type": "code",
   "execution_count": 5,
   "metadata": {},
   "outputs": [],
   "source": [
    "import tensorflow"
   ]
  },
  {
   "cell_type": "code",
   "execution_count": 6,
   "metadata": {},
   "outputs": [],
   "source": [
    "#Import ImageDataGenerator Library\n",
    "import tensorflow.keras\n",
    "from tensorflow.keras.preprocessing.image import ImageDataGenerator"
   ]
  },
  {
   "cell_type": "code",
   "execution_count": 7,
   "metadata": {},
   "outputs": [],
   "source": [
    "#Define the parameters /arguments for ImageDataGenerator class to train set \n",
    "train_datagen = ImageDataGenerator(rescale=1./255,shear_range=0.2,\n",
    "                                   horizontal_flip=True,\n",
    "                                   zoom_range=0.2,\n",
    "                                  rotation_range=180) \n",
    "\n",
    "\n",
    "#Define the parameters /arguments for ImageDataGenerator class to test set\n",
    "test_datagen = ImageDataGenerator(rescale=1./255)"
   ]
  },
  {
   "cell_type": "code",
   "execution_count": 8,
   "metadata": {},
   "outputs": [
    {
     "name": "stdout",
     "output_type": "stream",
     "text": [
      "Found 624 images belonging to 8 classes.\n",
      "Found 269 images belonging to 8 classes.\n"
     ]
    }
   ],
   "source": [
    "#Applying ImageDataGenerator functionality to trainset\n",
    "x_train=train_datagen.flow_from_directory( r\"C:\\Users\\AsuS\\Downloads\\Wild_ediblity-updated\\dataset\\training_set\",\n",
    "    target_size=(128,128),\n",
    "    batch_size=32,\n",
    "    class_mode='categorical')\n",
    "\n",
    "#Applying ImageDataGenerator functionality to test set\n",
    "x_test=test_datagen.flow_from_directory(\n",
    "  r'C:\\Users\\AsuS\\Downloads\\Wild_ediblity-updated\\dataset\\test_set',\n",
    "    target_size=(128,128),\n",
    "    batch_size=32,\n",
    "    class_mode='categorical')"
   ]
  },
  {
   "cell_type": "code",
   "execution_count": 9,
   "metadata": {},
   "outputs": [],
   "source": [
    "'''Importing the model building libraries'''\n",
    "#to define linear initializations import Sequential\n",
    "from tensorflow.keras.models import Sequential\n",
    "#To add layers import Dense\n",
    "from tensorflow.keras.layers import Dense\n",
    "# to create a convolution kernel import Convolution2D\n",
    "from tensorflow.keras.layers import Conv2D\n",
    "# to create a Max pooling Layer\n",
    "from tensorflow.keras.layers import MaxPool2D\n",
    "# to create a Flatten Layer\n",
    "from tensorflow.keras.layers import Flatten\n",
    "from tensorflow.keras.layers import Dropout"
   ]
  },
  {
   "cell_type": "code",
   "execution_count": 10,
   "metadata": {},
   "outputs": [],
   "source": [
    "# Initializing the model\n",
    "model = Sequential()"
   ]
  },
  {
   "cell_type": "code",
   "execution_count": 11,
   "metadata": {},
   "outputs": [
    {
     "name": "stdout",
     "output_type": "stream",
     "text": [
      "WARNING:tensorflow:From D:\\Users\\AsuS\\Anaconda3\\lib\\site-packages\\tensorflow\\python\\ops\\init_ops.py:1251: calling VarianceScaling.__init__ (from tensorflow.python.ops.init_ops) with dtype is deprecated and will be removed in a future version.\n",
      "Instructions for updating:\n",
      "Call initializer instance with the dtype argument instead of passing it to the constructor\n"
     ]
    }
   ],
   "source": [
    "# Adding CNN layers\n",
    "model.add(Conv2D(64,3,3,input_shape=(128,128,3),activation='relu'))"
   ]
  },
  {
   "cell_type": "code",
   "execution_count": 12,
   "metadata": {},
   "outputs": [],
   "source": [
    "# Adding Max pooling Layer\n",
    "model.add(MaxPool2D(pool_size=(2,2)))"
   ]
  },
  {
   "cell_type": "code",
   "execution_count": 13,
   "metadata": {},
   "outputs": [],
   "source": [
    "# Adding CNN layers\n",
    "model.add(Conv2D(64,3,3,activation='relu'))"
   ]
  },
  {
   "cell_type": "code",
   "execution_count": 14,
   "metadata": {},
   "outputs": [],
   "source": [
    "\n",
    "# Adding Max pooling Layer\n",
    "model.add(MaxPool2D(pool_size=(2,2)))"
   ]
  },
  {
   "cell_type": "code",
   "execution_count": 15,
   "metadata": {},
   "outputs": [],
   "source": [
    "# Adding Flatten Layer\n",
    "model.add(Flatten())"
   ]
  },
  {
   "cell_type": "code",
   "execution_count": 16,
   "metadata": {},
   "outputs": [],
   "source": [
    "\n",
    "model.add(Dropout(0.3))"
   ]
  },
  {
   "cell_type": "code",
   "execution_count": 17,
   "metadata": {},
   "outputs": [
    {
     "name": "stdout",
     "output_type": "stream",
     "text": [
      "WARNING:tensorflow:From D:\\Users\\AsuS\\Anaconda3\\lib\\site-packages\\tensorflow\\python\\keras\\initializers.py:119: calling RandomUniform.__init__ (from tensorflow.python.ops.init_ops) with dtype is deprecated and will be removed in a future version.\n",
      "Instructions for updating:\n",
      "Call initializer instance with the dtype argument instead of passing it to the constructor\n"
     ]
    }
   ],
   "source": [
    "# Adding Hidden Layers\n",
    "model.add(Dense(kernel_initializer='uniform',activation='relu',units=150))\n",
    "#model.add(Dense(activation='relu',init='uniform',units=150))"
   ]
  },
  {
   "cell_type": "code",
   "execution_count": 18,
   "metadata": {},
   "outputs": [],
   "source": [
    "model.add(Dense(kernel_initializer='uniform',activation='relu',units=68))"
   ]
  },
  {
   "cell_type": "code",
   "execution_count": 19,
   "metadata": {},
   "outputs": [],
   "source": [
    "model.add(Dense(kernel_initializer='uniform',activation='relu',units=200))"
   ]
  },
  {
   "cell_type": "code",
   "execution_count": 20,
   "metadata": {},
   "outputs": [],
   "source": [
    "model.add(Dense(kernel_initializer='uniform',activation='relu',units=300))"
   ]
  },
  {
   "cell_type": "code",
   "execution_count": 21,
   "metadata": {},
   "outputs": [],
   "source": [
    "# Adding Hidden Layers\n",
    "model.add(Dense(kernel_initializer='uniform',activation='relu',units=100))\n",
    "#model.add(Dense(activation='relu',init='uniform',units=75))"
   ]
  },
  {
   "cell_type": "code",
   "execution_count": 22,
   "metadata": {},
   "outputs": [],
   "source": [
    "# Adding output Layers\n",
    "model.add(Dense(kernel_initializer='uniform',activation='softmax',units=8))\n",
    "#model.add(Dense(units=6,init='uniform',activation='softmax'))"
   ]
  },
  {
   "cell_type": "code",
   "execution_count": 23,
   "metadata": {},
   "outputs": [
    {
     "name": "stdout",
     "output_type": "stream",
     "text": [
      "Model: \"sequential\"\n",
      "_________________________________________________________________\n",
      "Layer (type)                 Output Shape              Param #   \n",
      "=================================================================\n",
      "conv2d (Conv2D)              (None, 42, 42, 64)        1792      \n",
      "_________________________________________________________________\n",
      "max_pooling2d (MaxPooling2D) (None, 21, 21, 64)        0         \n",
      "_________________________________________________________________\n",
      "conv2d_1 (Conv2D)            (None, 7, 7, 64)          36928     \n",
      "_________________________________________________________________\n",
      "max_pooling2d_1 (MaxPooling2 (None, 3, 3, 64)          0         \n",
      "_________________________________________________________________\n",
      "flatten (Flatten)            (None, 576)               0         \n",
      "_________________________________________________________________\n",
      "dropout (Dropout)            (None, 576)               0         \n",
      "_________________________________________________________________\n",
      "dense (Dense)                (None, 150)               86550     \n",
      "_________________________________________________________________\n",
      "dense_1 (Dense)              (None, 68)                10268     \n",
      "_________________________________________________________________\n",
      "dense_2 (Dense)              (None, 200)               13800     \n",
      "_________________________________________________________________\n",
      "dense_3 (Dense)              (None, 300)               60300     \n",
      "_________________________________________________________________\n",
      "dense_4 (Dense)              (None, 100)               30100     \n",
      "_________________________________________________________________\n",
      "dense_5 (Dense)              (None, 8)                 808       \n",
      "=================================================================\n",
      "Total params: 240,546\n",
      "Trainable params: 240,546\n",
      "Non-trainable params: 0\n",
      "_________________________________________________________________\n"
     ]
    }
   ],
   "source": [
    "#check the summary of the model\n",
    "model.summary()"
   ]
  },
  {
   "cell_type": "code",
   "execution_count": 24,
   "metadata": {},
   "outputs": [],
   "source": [
    "# Configure the learning process\n",
    "model.compile(optimizer = 'adam',loss='categorical_crossentropy',\n",
    "              metrics=['accuracy']) "
   ]
  },
  {
   "cell_type": "code",
   "execution_count": 25,
   "metadata": {},
   "outputs": [
    {
     "name": "stdout",
     "output_type": "stream",
     "text": [
      "{'Mountain Laurel_nonedible': 0, 'Peppergrass_edible': 1, 'Purple Deadnettle_edible': 2, 'Rhododendron_nonedible': 3, 'Toothwort_edible': 4, 'Wild Grape Vine_edible': 5, 'Wild Leek_edible': 6, 'rattlebox_nonedible': 7}\n"
     ]
    }
   ],
   "source": [
    "#check the index position of classes\n",
    "print(x_train.class_indices)"
   ]
  },
  {
   "cell_type": "code",
   "execution_count": 26,
   "metadata": {},
   "outputs": [
    {
     "name": "stdout",
     "output_type": "stream",
     "text": [
      "Epoch 1/100\n",
      "19/19 [==============================] - 6s 300ms/step - loss: 2.0787 - acc: 0.1740 - val_loss: 2.0804 - val_acc: 0.1250\n",
      "Epoch 2/100\n",
      "19/19 [==============================] - 5s 281ms/step - loss: 2.0746 - acc: 0.1791 - val_loss: 2.0825 - val_acc: 0.1250\n",
      "Epoch 3/100\n",
      "19/19 [==============================] - 5s 272ms/step - loss: 2.0626 - acc: 0.2078 - val_loss: 2.0850 - val_acc: 0.1250\n",
      "Epoch 4/100\n",
      "19/19 [==============================] - 5s 272ms/step - loss: 2.0683 - acc: 0.1859 - val_loss: 2.0864 - val_acc: 0.1250\n",
      "Epoch 5/100\n",
      "19/19 [==============================] - 5s 259ms/step - loss: 2.0531 - acc: 0.2118 - val_loss: 2.0801 - val_acc: 0.1250\n",
      "Epoch 6/100\n",
      "19/19 [==============================] - 5s 267ms/step - loss: 2.0737 - acc: 0.1776 - val_loss: 2.0818 - val_acc: 0.1250\n",
      "Epoch 7/100\n",
      "19/19 [==============================] - 5s 244ms/step - loss: 2.0659 - acc: 0.1997 - val_loss: 2.0829 - val_acc: 0.1250\n",
      "Epoch 8/100\n",
      "19/19 [==============================] - 5s 252ms/step - loss: 2.0654 - acc: 0.1926 - val_loss: 2.0960 - val_acc: 0.1250\n",
      "Epoch 9/100\n",
      "19/19 [==============================] - 5s 253ms/step - loss: 2.0603 - acc: 0.2007 - val_loss: 2.0928 - val_acc: 0.1250\n",
      "Epoch 10/100\n",
      "19/19 [==============================] - 5s 261ms/step - loss: 2.0728 - acc: 0.1807 - val_loss: 2.0828 - val_acc: 0.1250\n",
      "Epoch 11/100\n",
      "19/19 [==============================] - 5s 245ms/step - loss: 2.0621 - acc: 0.1979 - val_loss: 2.0867 - val_acc: 0.1250\n",
      "Epoch 12/100\n",
      "19/19 [==============================] - 5s 259ms/step - loss: 2.0687 - acc: 0.1807 - val_loss: 2.0869 - val_acc: 0.1250\n",
      "Epoch 13/100\n",
      "19/19 [==============================] - 5s 264ms/step - loss: 2.0502 - acc: 0.1974 - val_loss: 2.0543 - val_acc: 0.1719\n",
      "Epoch 14/100\n",
      "19/19 [==============================] - 5s 253ms/step - loss: 1.9993 - acc: 0.2348 - val_loss: 2.0309 - val_acc: 0.1797\n",
      "Epoch 15/100\n",
      "19/19 [==============================] - 5s 238ms/step - loss: 1.9299 - acc: 0.2535 - val_loss: 2.0121 - val_acc: 0.2031\n",
      "Epoch 16/100\n",
      "19/19 [==============================] - 5s 264ms/step - loss: 1.9509 - acc: 0.2270 - val_loss: 1.9164 - val_acc: 0.2109\n",
      "Epoch 17/100\n",
      "19/19 [==============================] - 5s 248ms/step - loss: 1.8991 - acc: 0.2584 - val_loss: 1.9211 - val_acc: 0.2031\n",
      "Epoch 18/100\n",
      "19/19 [==============================] - 5s 253ms/step - loss: 1.9193 - acc: 0.2466 - val_loss: 1.8906 - val_acc: 0.2070\n",
      "Epoch 19/100\n",
      "19/19 [==============================] - 5s 250ms/step - loss: 1.8814 - acc: 0.2618 - val_loss: 1.8806 - val_acc: 0.2109\n",
      "Epoch 20/100\n",
      "19/19 [==============================] - 5s 253ms/step - loss: 1.8956 - acc: 0.2584 - val_loss: 1.8816 - val_acc: 0.2266\n",
      "Epoch 21/100\n",
      "19/19 [==============================] - 5s 249ms/step - loss: 1.8643 - acc: 0.2601 - val_loss: 1.8928 - val_acc: 0.2148\n",
      "Epoch 22/100\n",
      "19/19 [==============================] - 5s 277ms/step - loss: 1.8732 - acc: 0.2601 - val_loss: 1.8938 - val_acc: 0.2539\n",
      "Epoch 23/100\n",
      "19/19 [==============================] - 5s 276ms/step - loss: 1.8326 - acc: 0.2770 - val_loss: 1.8636 - val_acc: 0.2656\n",
      "Epoch 24/100\n",
      "19/19 [==============================] - 5s 268ms/step - loss: 1.8543 - acc: 0.2618 - val_loss: 1.8792 - val_acc: 0.2305\n",
      "Epoch 25/100\n",
      "19/19 [==============================] - 5s 262ms/step - loss: 1.8278 - acc: 0.2787 - val_loss: 1.8911 - val_acc: 0.2266\n",
      "Epoch 26/100\n",
      "19/19 [==============================] - 5s 244ms/step - loss: 1.8052 - acc: 0.3091 - val_loss: 1.8482 - val_acc: 0.2773\n",
      "Epoch 27/100\n",
      "19/19 [==============================] - 5s 264ms/step - loss: 1.7774 - acc: 0.3057 - val_loss: 1.8540 - val_acc: 0.2734\n",
      "Epoch 28/100\n",
      "19/19 [==============================] - 5s 278ms/step - loss: 1.8146 - acc: 0.2821 - val_loss: 1.9094 - val_acc: 0.2461\n",
      "Epoch 29/100\n",
      "19/19 [==============================] - 5s 261ms/step - loss: 1.6975 - acc: 0.3514 - val_loss: 1.9284 - val_acc: 0.2891\n",
      "Epoch 30/100\n",
      "19/19 [==============================] - 5s 269ms/step - loss: 1.7300 - acc: 0.3260 - val_loss: 1.8616 - val_acc: 0.2852\n",
      "Epoch 31/100\n",
      "19/19 [==============================] - 5s 275ms/step - loss: 1.6900 - acc: 0.3273 - val_loss: 1.8014 - val_acc: 0.3164\n",
      "Epoch 32/100\n",
      "19/19 [==============================] - 5s 262ms/step - loss: 1.7169 - acc: 0.3514 - val_loss: 1.8084 - val_acc: 0.3320\n",
      "Epoch 33/100\n",
      "19/19 [==============================] - 5s 253ms/step - loss: 1.6328 - acc: 0.3854 - val_loss: 1.8812 - val_acc: 0.3125\n",
      "Epoch 34/100\n",
      "19/19 [==============================] - 5s 263ms/step - loss: 1.7378 - acc: 0.3311 - val_loss: 1.8938 - val_acc: 0.2734\n",
      "Epoch 35/100\n",
      "19/19 [==============================] - 5s 282ms/step - loss: 1.6847 - acc: 0.3487 - val_loss: 1.8310 - val_acc: 0.2969\n",
      "Epoch 36/100\n",
      "19/19 [==============================] - 5s 277ms/step - loss: 1.6311 - acc: 0.3818 - val_loss: 1.8219 - val_acc: 0.3281\n",
      "Epoch 37/100\n",
      "19/19 [==============================] - 5s 268ms/step - loss: 1.6176 - acc: 0.3649 - val_loss: 1.8850 - val_acc: 0.3047\n",
      "Epoch 38/100\n",
      "19/19 [==============================] - 5s 273ms/step - loss: 1.6523 - acc: 0.3632 - val_loss: 1.7716 - val_acc: 0.3086\n",
      "Epoch 39/100\n",
      "19/19 [==============================] - 6s 305ms/step - loss: 1.6773 - acc: 0.3345 - val_loss: 1.7765 - val_acc: 0.3555\n",
      "Epoch 40/100\n",
      "19/19 [==============================] - 11s 579ms/step - loss: 1.6352 - acc: 0.3581 - val_loss: 1.7826 - val_acc: 0.3477\n",
      "Epoch 41/100\n",
      "19/19 [==============================] - 10s 515ms/step - loss: 1.6133 - acc: 0.3784 - val_loss: 1.7985 - val_acc: 0.3320\n",
      "Epoch 42/100\n",
      "19/19 [==============================] - 5s 287ms/step - loss: 1.6163 - acc: 0.3964 - val_loss: 1.8974 - val_acc: 0.2617\n",
      "Epoch 43/100\n",
      "19/19 [==============================] - 5s 276ms/step - loss: 1.6503 - acc: 0.3715 - val_loss: 1.7635 - val_acc: 0.3398\n",
      "Epoch 44/100\n",
      "19/19 [==============================] - 5s 268ms/step - loss: 1.6731 - acc: 0.3666 - val_loss: 1.7422 - val_acc: 0.3281\n",
      "Epoch 45/100\n",
      "19/19 [==============================] - 5s 250ms/step - loss: 1.5729 - acc: 0.3801 - val_loss: 1.8166 - val_acc: 0.3203\n",
      "Epoch 46/100\n",
      "19/19 [==============================] - 5s 261ms/step - loss: 1.6236 - acc: 0.3832 - val_loss: 1.7750 - val_acc: 0.3008\n",
      "Epoch 47/100\n",
      "19/19 [==============================] - 5s 243ms/step - loss: 1.6344 - acc: 0.3681 - val_loss: 1.7880 - val_acc: 0.3594\n",
      "Epoch 48/100\n",
      "19/19 [==============================] - 5s 267ms/step - loss: 1.5857 - acc: 0.4128 - val_loss: 1.8081 - val_acc: 0.3242\n",
      "Epoch 49/100\n",
      "19/19 [==============================] - 5s 267ms/step - loss: 1.6178 - acc: 0.3924 - val_loss: 1.7415 - val_acc: 0.3359\n",
      "Epoch 50/100\n",
      "19/19 [==============================] - 5s 264ms/step - loss: 1.5548 - acc: 0.4122 - val_loss: 1.8124 - val_acc: 0.3516\n",
      "Epoch 51/100\n",
      "19/19 [==============================] - 5s 262ms/step - loss: 1.5703 - acc: 0.3801 - val_loss: 1.7777 - val_acc: 0.3281\n",
      "Epoch 52/100\n",
      "19/19 [==============================] - 5s 275ms/step - loss: 1.5692 - acc: 0.4139 - val_loss: 1.7942 - val_acc: 0.3477\n",
      "Epoch 53/100\n",
      "19/19 [==============================] - 5s 269ms/step - loss: 1.5900 - acc: 0.3699 - val_loss: 1.8880 - val_acc: 0.2930\n",
      "Epoch 54/100\n",
      "19/19 [==============================] - 5s 270ms/step - loss: 1.5810 - acc: 0.3902 - val_loss: 1.7951 - val_acc: 0.3125\n",
      "Epoch 55/100\n",
      "19/19 [==============================] - 5s 277ms/step - loss: 1.5807 - acc: 0.3931 - val_loss: 1.7478 - val_acc: 0.3477\n",
      "Epoch 56/100\n",
      "19/19 [==============================] - 5s 271ms/step - loss: 1.5673 - acc: 0.4223 - val_loss: 1.7446 - val_acc: 0.3594\n",
      "Epoch 57/100\n",
      "19/19 [==============================] - 5s 268ms/step - loss: 1.5506 - acc: 0.3970 - val_loss: 1.7307 - val_acc: 0.3516\n",
      "Epoch 58/100\n",
      "19/19 [==============================] - 5s 275ms/step - loss: 1.5113 - acc: 0.4003 - val_loss: 1.7582 - val_acc: 0.3555\n",
      "Epoch 59/100\n",
      "19/19 [==============================] - 5s 271ms/step - loss: 1.6221 - acc: 0.3547 - val_loss: 1.7904 - val_acc: 0.2695\n",
      "Epoch 60/100\n",
      "19/19 [==============================] - 5s 267ms/step - loss: 1.5646 - acc: 0.3953 - val_loss: 1.7207 - val_acc: 0.3555\n",
      "Epoch 61/100\n",
      "19/19 [==============================] - 5s 267ms/step - loss: 1.5211 - acc: 0.3902 - val_loss: 1.7417 - val_acc: 0.3672\n",
      "Epoch 62/100\n",
      "19/19 [==============================] - 6s 303ms/step - loss: 1.5173 - acc: 0.4257 - val_loss: 1.7232 - val_acc: 0.3477\n",
      "Epoch 63/100\n",
      "19/19 [==============================] - 6s 291ms/step - loss: 1.5587 - acc: 0.4223 - val_loss: 1.7050 - val_acc: 0.3867\n",
      "Epoch 64/100\n",
      "19/19 [==============================] - 6s 292ms/step - loss: 1.4750 - acc: 0.4243 - val_loss: 1.7248 - val_acc: 0.3477\n",
      "Epoch 65/100\n",
      "19/19 [==============================] - 5s 274ms/step - loss: 1.4491 - acc: 0.4375 - val_loss: 1.7718 - val_acc: 0.3672\n",
      "Epoch 66/100\n",
      "19/19 [==============================] - 5s 271ms/step - loss: 1.5981 - acc: 0.3767 - val_loss: 1.7008 - val_acc: 0.3438\n",
      "Epoch 67/100\n",
      "19/19 [==============================] - 6s 303ms/step - loss: 1.5098 - acc: 0.4112 - val_loss: 1.7097 - val_acc: 0.3516\n",
      "Epoch 68/100\n",
      "19/19 [==============================] - 5s 271ms/step - loss: 1.5053 - acc: 0.4323 - val_loss: 1.7399 - val_acc: 0.3906\n",
      "Epoch 69/100\n",
      "19/19 [==============================] - 6s 292ms/step - loss: 1.4680 - acc: 0.4293 - val_loss: 1.7122 - val_acc: 0.3750\n",
      "Epoch 70/100\n",
      "19/19 [==============================] - 6s 290ms/step - loss: 1.5452 - acc: 0.4167 - val_loss: 1.6928 - val_acc: 0.3750\n",
      "Epoch 71/100\n",
      "19/19 [==============================] - 5s 286ms/step - loss: 1.4775 - acc: 0.4358 - val_loss: 1.7177 - val_acc: 0.3633\n",
      "Epoch 72/100\n",
      "19/19 [==============================] - 5s 281ms/step - loss: 1.4937 - acc: 0.4211 - val_loss: 1.7507 - val_acc: 0.3789\n",
      "Epoch 73/100\n",
      "19/19 [==============================] - 5s 269ms/step - loss: 1.5287 - acc: 0.4054 - val_loss: 1.7295 - val_acc: 0.3828\n",
      "Epoch 74/100\n",
      "19/19 [==============================] - 5s 278ms/step - loss: 1.4427 - acc: 0.4722 - val_loss: 1.7319 - val_acc: 0.3750\n",
      "Epoch 75/100\n",
      "19/19 [==============================] - 6s 302ms/step - loss: 1.5385 - acc: 0.4095 - val_loss: 1.6992 - val_acc: 0.3789\n",
      "Epoch 76/100\n",
      "19/19 [==============================] - 5s 265ms/step - loss: 1.4481 - acc: 0.4409 - val_loss: 1.7472 - val_acc: 0.3594\n",
      "Epoch 77/100\n",
      "19/19 [==============================] - 6s 294ms/step - loss: 1.4493 - acc: 0.4426 - val_loss: 1.7108 - val_acc: 0.3867\n",
      "Epoch 78/100\n",
      "19/19 [==============================] - 5s 273ms/step - loss: 1.4763 - acc: 0.4392 - val_loss: 1.7198 - val_acc: 0.3594\n",
      "Epoch 79/100\n",
      "19/19 [==============================] - 5s 281ms/step - loss: 1.4865 - acc: 0.4392 - val_loss: 1.7260 - val_acc: 0.3633\n",
      "Epoch 80/100\n",
      "19/19 [==============================] - 5s 280ms/step - loss: 1.4818 - acc: 0.4459 - val_loss: 1.6937 - val_acc: 0.3828\n",
      "Epoch 81/100\n",
      "19/19 [==============================] - 5s 284ms/step - loss: 1.4112 - acc: 0.4780 - val_loss: 1.8109 - val_acc: 0.3828\n",
      "Epoch 82/100\n",
      "19/19 [==============================] - 6s 299ms/step - loss: 1.4496 - acc: 0.4493 - val_loss: 1.7141 - val_acc: 0.3711\n",
      "Epoch 83/100\n",
      "19/19 [==============================] - 6s 297ms/step - loss: 1.4617 - acc: 0.4375 - val_loss: 1.7138 - val_acc: 0.3750\n",
      "Epoch 84/100\n",
      "19/19 [==============================] - 6s 291ms/step - loss: 1.4556 - acc: 0.4916 - val_loss: 1.7087 - val_acc: 0.3789\n",
      "Epoch 85/100\n",
      "19/19 [==============================] - 6s 294ms/step - loss: 1.4099 - acc: 0.4507 - val_loss: 1.6924 - val_acc: 0.3828\n",
      "Epoch 86/100\n",
      "19/19 [==============================] - 5s 269ms/step - loss: 1.4522 - acc: 0.4792 - val_loss: 1.7224 - val_acc: 0.3867\n",
      "Epoch 87/100\n",
      "19/19 [==============================] - 6s 291ms/step - loss: 1.4220 - acc: 0.4655 - val_loss: 1.6972 - val_acc: 0.3906\n",
      "Epoch 88/100\n",
      "19/19 [==============================] - 5s 269ms/step - loss: 1.4842 - acc: 0.4253 - val_loss: 1.7530 - val_acc: 0.3945\n",
      "Epoch 89/100\n",
      "19/19 [==============================] - 5s 275ms/step - loss: 1.4112 - acc: 0.4662 - val_loss: 1.7100 - val_acc: 0.3828\n",
      "Epoch 90/100\n",
      "19/19 [==============================] - 5s 288ms/step - loss: 1.4601 - acc: 0.4293 - val_loss: 1.6720 - val_acc: 0.3789\n",
      "Epoch 91/100\n",
      "19/19 [==============================] - 5s 273ms/step - loss: 1.4013 - acc: 0.4809 - val_loss: 1.6738 - val_acc: 0.4023\n",
      "Epoch 92/100\n",
      "19/19 [==============================] - 5s 286ms/step - loss: 1.3973 - acc: 0.4865 - val_loss: 1.7466 - val_acc: 0.4180\n",
      "Epoch 93/100\n",
      "19/19 [==============================] - 5s 269ms/step - loss: 1.3762 - acc: 0.4747 - val_loss: 1.7218 - val_acc: 0.4062\n",
      "Epoch 94/100\n",
      "19/19 [==============================] - 5s 283ms/step - loss: 1.3687 - acc: 0.4882 - val_loss: 1.6989 - val_acc: 0.4102\n",
      "Epoch 95/100\n",
      "19/19 [==============================] - 5s 284ms/step - loss: 1.4410 - acc: 0.4556 - val_loss: 1.7046 - val_acc: 0.3906\n",
      "Epoch 96/100\n",
      "19/19 [==============================] - 5s 267ms/step - loss: 1.4443 - acc: 0.5000 - val_loss: 1.7607 - val_acc: 0.3789\n",
      "Epoch 97/100\n",
      "19/19 [==============================] - 5s 275ms/step - loss: 1.4244 - acc: 0.4628 - val_loss: 1.6967 - val_acc: 0.4062\n",
      "Epoch 98/100\n",
      "19/19 [==============================] - 5s 281ms/step - loss: 1.3863 - acc: 0.4713 - val_loss: 1.6973 - val_acc: 0.4102\n",
      "Epoch 99/100\n",
      "19/19 [==============================] - 5s 274ms/step - loss: 1.3720 - acc: 0.4899 - val_loss: 1.6294 - val_acc: 0.4258\n",
      "Epoch 100/100\n",
      "19/19 [==============================] - 5s 267ms/step - loss: 1.4393 - acc: 0.4899 - val_loss: 1.7292 - val_acc: 0.3867\n"
     ]
    }
   ],
   "source": [
    "# Training the model\n",
    "\n",
    "\n",
    "\n",
    "#res = model.fit_generator(x_train,steps_per_epoch=14,validation_steps=5,epochs=40,validation_data=x_test)\n",
    "# Training the model\n",
    "history = model.fit_generator(x_train,steps_per_epoch=624//32,\n",
    "                              validation_data=x_test,\n",
    "                              epochs=100,validation_steps=269//32)\n",
    "#history = model.fit_generator(x_train,steps_per_epoch=14,validation_data=x_test,epochs=40,validation_steps=5)"
   ]
  },
  {
   "cell_type": "code",
   "execution_count": 27,
   "metadata": {},
   "outputs": [],
   "source": [
    "#save the model\n",
    "model.save('edible-non.h5')"
   ]
  },
  {
   "cell_type": "code",
   "execution_count": 28,
   "metadata": {},
   "outputs": [
    {
     "name": "stdout",
     "output_type": "stream",
     "text": [
      "WARNING:tensorflow:From D:\\Users\\AsuS\\Anaconda3\\lib\\site-packages\\tensorflow\\python\\ops\\init_ops.py:97: calling GlorotUniform.__init__ (from tensorflow.python.ops.init_ops) with dtype is deprecated and will be removed in a future version.\n",
      "Instructions for updating:\n",
      "Call initializer instance with the dtype argument instead of passing it to the constructor\n",
      "WARNING:tensorflow:From D:\\Users\\AsuS\\Anaconda3\\lib\\site-packages\\tensorflow\\python\\ops\\init_ops.py:97: calling Zeros.__init__ (from tensorflow.python.ops.init_ops) with dtype is deprecated and will be removed in a future version.\n",
      "Instructions for updating:\n",
      "Call initializer instance with the dtype argument instead of passing it to the constructor\n"
     ]
    }
   ],
   "source": [
    "#import numpy library\n",
    "import numpy as np\n",
    "#import load_model method to load our saved model\n",
    "from tensorflow.keras.models import load_model\n",
    "#import image from keras.preprocessing\n",
    "from tensorflow.keras.preprocessing import image\n",
    "#loading our saved model file\n",
    "model = load_model(\"edible-non.h5\")"
   ]
  },
  {
   "cell_type": "code",
   "execution_count": 29,
   "metadata": {},
   "outputs": [
    {
     "data": {
      "text/plain": [
       "array([0], dtype=int64)"
      ]
     },
     "execution_count": 29,
     "metadata": {},
     "output_type": "execute_result"
    }
   ],
   "source": [
    "img = image.load_img(r\"C:\\Users\\AsuS\\Downloads\\Wild_ediblity-updated\\dataset\\training_set\\Purple Deadnettle_edible\\Purple-Deadnettle.jpg\",\n",
    "                     target_size=(128,128))\n",
    "x = image.img_to_array(img)\n",
    "#expanding the shape of image to 4 dimensions\n",
    "x = np.expand_dims(x,axis=0)\n",
    "pred = model.predict_classes(x)\n",
    "pred"
   ]
  },
  {
   "cell_type": "code",
   "execution_count": 30,
   "metadata": {},
   "outputs": [
    {
     "data": {
      "text/plain": [
       "'Mountain Laurel_nonedible'"
      ]
     },
     "execution_count": 30,
     "metadata": {},
     "output_type": "execute_result"
    }
   ],
   "source": [
    "index=['Mountain Laurel_nonedible', 'Peppergrass_edible', 'Purple Deadnettle_edible', \n",
    "       'Rhododendron_nonedible', 'Toothwort_edible', 'Wild Grape Vine_edible', 'Wild Leek_edible', 'rattlebox_nonedible']\n",
    "result = str(index[pred[0]])\n",
    "result"
   ]
  },
  {
   "cell_type": "code",
   "execution_count": null,
   "metadata": {},
   "outputs": [],
   "source": []
  },
  {
   "cell_type": "code",
   "execution_count": null,
   "metadata": {},
   "outputs": [],
   "source": []
  },
  {
   "cell_type": "code",
   "execution_count": null,
   "metadata": {},
   "outputs": [],
   "source": []
  },
  {
   "cell_type": "code",
   "execution_count": null,
   "metadata": {},
   "outputs": [],
   "source": []
  },
  {
   "cell_type": "code",
   "execution_count": null,
   "metadata": {},
   "outputs": [],
   "source": []
  },
  {
   "cell_type": "code",
   "execution_count": null,
   "metadata": {},
   "outputs": [],
   "source": []
  },
  {
   "cell_type": "code",
   "execution_count": null,
   "metadata": {},
   "outputs": [],
   "source": []
  },
  {
   "cell_type": "code",
   "execution_count": null,
   "metadata": {},
   "outputs": [],
   "source": []
  }
 ],
 "metadata": {
  "kernelspec": {
   "display_name": "Python 3",
   "language": "python",
   "name": "python3"
  },
  "language_info": {
   "codemirror_mode": {
    "name": "ipython",
    "version": 3
   },
   "file_extension": ".py",
   "mimetype": "text/x-python",
   "name": "python",
   "nbconvert_exporter": "python",
   "pygments_lexer": "ipython3",
   "version": "3.7.4"
  }
 },
 "nbformat": 4,
 "nbformat_minor": 2
}
